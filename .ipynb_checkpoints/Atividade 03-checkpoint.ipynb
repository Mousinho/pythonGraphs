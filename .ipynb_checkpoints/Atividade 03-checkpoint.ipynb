{
 "cells": [
  {
   "cell_type": "code",
   "execution_count": 2,
   "id": "9a6dcd68-4ae7-4dd8-b97f-0556d4eb13a0",
   "metadata": {},
   "outputs": [],
   "source": [
    "#Arquivo dados.csv\n",
    "#Empenho em diárias em municípios gaúchos e PIB do município.\n",
    "#Execute um processo de análise de dados exploratoria para conhecimento/entendimento destes dados"
   ]
  },
  {
   "cell_type": "code",
   "execution_count": 28,
   "id": "22211108-4296-43b2-980b-23c4bc6df5d4",
   "metadata": {},
   "outputs": [],
   "source": [
    "import pandas as pd\n",
    "import seaborn as srn\n",
    "import numpy as np\n",
    "import statistics as est"
   ]
  },
  {
   "cell_type": "code",
   "execution_count": 40,
   "id": "272505ab-00a7-47ca-91aa-7edd422b457b",
   "metadata": {},
   "outputs": [
    {
     "data": {
      "text/html": [
       "<div>\n",
       "<style scoped>\n",
       "    .dataframe tbody tr th:only-of-type {\n",
       "        vertical-align: middle;\n",
       "    }\n",
       "\n",
       "    .dataframe tbody tr th {\n",
       "        vertical-align: top;\n",
       "    }\n",
       "\n",
       "    .dataframe thead th {\n",
       "        text-align: right;\n",
       "    }\n",
       "</style>\n",
       "<table border=\"1\" class=\"dataframe\">\n",
       "  <thead>\n",
       "    <tr style=\"text-align: right;\">\n",
       "      <th></th>\n",
       "      <th>CODIGO</th>\n",
       "      <th>MUNICIPIO</th>\n",
       "      <th>PIB</th>\n",
       "      <th>VALOREMPENHO</th>\n",
       "    </tr>\n",
       "  </thead>\n",
       "  <tbody>\n",
       "    <tr>\n",
       "      <th>0</th>\n",
       "      <td>106</td>\n",
       "      <td>SANTANA DO LIVRAMENTO</td>\n",
       "      <td>12240.76</td>\n",
       "      <td>1088666.10</td>\n",
       "    </tr>\n",
       "    <tr>\n",
       "      <th>1</th>\n",
       "      <td>113</td>\n",
       "      <td>SANTO ANGELO</td>\n",
       "      <td>16575.82</td>\n",
       "      <td>800669.92</td>\n",
       "    </tr>\n",
       "    <tr>\n",
       "      <th>2</th>\n",
       "      <td>118</td>\n",
       "      <td>SAO FRANCISCO DE ASSIS</td>\n",
       "      <td>12037.61</td>\n",
       "      <td>466122.80</td>\n",
       "    </tr>\n",
       "    <tr>\n",
       "      <th>3</th>\n",
       "      <td>13</td>\n",
       "      <td>CACAPAVA DO SUL</td>\n",
       "      <td>13674.54</td>\n",
       "      <td>485535.86</td>\n",
       "    </tr>\n",
       "    <tr>\n",
       "      <th>4</th>\n",
       "      <td>120</td>\n",
       "      <td>SAO GABRIEL</td>\n",
       "      <td>19912.38</td>\n",
       "      <td>533719.86</td>\n",
       "    </tr>\n",
       "    <tr>\n",
       "      <th>...</th>\n",
       "      <td>...</td>\n",
       "      <td>...</td>\n",
       "      <td>...</td>\n",
       "      <td>...</td>\n",
       "    </tr>\n",
       "    <tr>\n",
       "      <th>182</th>\n",
       "      <td>372</td>\n",
       "      <td>SANTA VITORIA DO PALMAR</td>\n",
       "      <td>27170.89</td>\n",
       "      <td>760.00</td>\n",
       "    </tr>\n",
       "    <tr>\n",
       "      <th>183</th>\n",
       "      <td>107</td>\n",
       "      <td>SANTA BARBARA DO SUL</td>\n",
       "      <td>29654.02</td>\n",
       "      <td>365.00</td>\n",
       "    </tr>\n",
       "    <tr>\n",
       "      <th>184</th>\n",
       "      <td>54</td>\n",
       "      <td>GETULIO VARGAS</td>\n",
       "      <td>16876.33</td>\n",
       "      <td>233.01</td>\n",
       "    </tr>\n",
       "    <tr>\n",
       "      <th>185</th>\n",
       "      <td>382</td>\n",
       "      <td>NOVA SANTA RITA</td>\n",
       "      <td>25938.38</td>\n",
       "      <td>310.58</td>\n",
       "    </tr>\n",
       "    <tr>\n",
       "      <th>186</th>\n",
       "      <td>60</td>\n",
       "      <td>GUARANI DAS MISSOES</td>\n",
       "      <td>24363.31</td>\n",
       "      <td>172.13</td>\n",
       "    </tr>\n",
       "  </tbody>\n",
       "</table>\n",
       "<p>187 rows × 4 columns</p>\n",
       "</div>"
      ],
      "text/plain": [
       "     CODIGO                MUNICIPIO       PIB  VALOREMPENHO\n",
       "0       106    SANTANA DO LIVRAMENTO  12240.76    1088666.10\n",
       "1       113             SANTO ANGELO  16575.82     800669.92\n",
       "2       118   SAO FRANCISCO DE ASSIS  12037.61     466122.80\n",
       "3        13          CACAPAVA DO SUL  13674.54     485535.86\n",
       "4       120              SAO GABRIEL  19912.38     533719.86\n",
       "..      ...                      ...       ...           ...\n",
       "182     372  SANTA VITORIA DO PALMAR  27170.89        760.00\n",
       "183     107     SANTA BARBARA DO SUL  29654.02        365.00\n",
       "184      54           GETULIO VARGAS  16876.33        233.01\n",
       "185     382          NOVA SANTA RITA  25938.38        310.58\n",
       "186      60      GUARANI DAS MISSOES  24363.31        172.13\n",
       "\n",
       "[187 rows x 4 columns]"
      ]
     },
     "execution_count": 40,
     "metadata": {},
     "output_type": "execute_result"
    }
   ],
   "source": [
    "base = pd.read_csv(\"dados.csv\", sep=\";\")\n",
    "base"
   ]
  },
  {
   "cell_type": "code",
   "execution_count": 41,
   "id": "52f6bf1c-f71d-46ea-9d65-d38ea61c10d3",
   "metadata": {},
   "outputs": [
    {
     "data": {
      "text/plain": [
       "CODIGO          0\n",
       "MUNICIPIO       0\n",
       "PIB             0\n",
       "VALOREMPENHO    0\n",
       "dtype: int64"
      ]
     },
     "execution_count": 41,
     "metadata": {},
     "output_type": "execute_result"
    }
   ],
   "source": [
    "base.isnull().sum()"
   ]
  },
  {
   "cell_type": "code",
   "execution_count": 42,
   "id": "aa55b180-f183-45c6-9e2f-06a7c902eca2",
   "metadata": {},
   "outputs": [
    {
     "data": {
      "text/plain": [
       "count       187.000000\n",
       "mean      19808.741337\n",
       "std       16984.223244\n",
       "min        8236.630000\n",
       "25%       13621.455000\n",
       "50%       17206.190000\n",
       "75%       21429.165000\n",
       "max      223848.220000\n",
       "Name: PIB, dtype: float64"
      ]
     },
     "execution_count": 42,
     "metadata": {},
     "output_type": "execute_result"
    }
   ],
   "source": [
    "base[\"PIB\"].describe()"
   ]
  },
  {
   "cell_type": "code",
   "execution_count": 43,
   "id": "b16e148e-1891-431e-89eb-27f690d758cb",
   "metadata": {},
   "outputs": [
    {
     "data": {
      "text/plain": [
       "count    1.870000e+02\n",
       "mean     1.299844e+05\n",
       "std      1.615491e+05\n",
       "min      1.721300e+02\n",
       "25%      5.251718e+04\n",
       "50%      8.422816e+04\n",
       "75%      1.538961e+05\n",
       "max      1.442760e+06\n",
       "Name: VALOREMPENHO, dtype: float64"
      ]
     },
     "execution_count": 43,
     "metadata": {},
     "output_type": "execute_result"
    }
   ],
   "source": [
    "base[\"VALOREMPENHO\"].describe()"
   ]
  },
  {
   "cell_type": "code",
   "execution_count": 44,
   "id": "e7d52fb1-1f36-4bd7-8b4d-935a39eb64bc",
   "metadata": {},
   "outputs": [
    {
     "name": "stderr",
     "output_type": "stream",
     "text": [
      "C:\\Users\\Pedro Arraes\\anaconda3\\lib\\site-packages\\seaborn\\_decorators.py:36: FutureWarning: Pass the following variable as a keyword arg: x. From version 0.12, the only valid positional argument will be `data`, and passing other arguments without an explicit keyword will result in an error or misinterpretation.\n",
      "  warnings.warn(\n"
     ]
    },
    {
     "data": {
      "text/plain": [
       "Text(0.5, 1.0, 'PIB')"
      ]
     },
     "execution_count": 44,
     "metadata": {},
     "output_type": "execute_result"
    },
    {
     "data": {
      "image/png": "[encoded data removed]",
      "text/plain": [
       "<Figure size 432x288 with 1 Axes>"
      ]
     },
     "metadata": {
      "needs_background": "light"
     },
     "output_type": "display_data"
    }
   ],
   "source": [
    "srn.boxplot(base[\"PIB\"]).set_title(\"PIB\")"
   ]
  },
  {
   "cell_type": "code",
   "execution_count": 45,
   "id": "033d2f17-93ff-4c81-ae59-4a092d52469d",
   "metadata": {},
   "outputs": [
    {
     "data": {
      "text/plain": [
       "17206.19"
      ]
     },
     "execution_count": 45,
     "metadata": {},
     "output_type": "execute_result"
    }
   ],
   "source": [
    "mediana_PIB = est.median(base[\"PIB\"])\n",
    "mediana_PIB"
   ]
  },
  {
   "cell_type": "code",
   "execution_count": 46,
   "id": "0a0cd39c-5b70-4021-92a2-079637731961",
   "metadata": {},
   "outputs": [],
   "source": [
    "base.loc[(base[\"PIB\"] > 30000), \"PIB\"] = mediana_PIB"
   ]
  },
  {
   "cell_type": "code",
   "execution_count": 47,
   "id": "1d23dd94-70cb-43ee-b323-f56ae117fd3a",
   "metadata": {},
   "outputs": [
    {
     "name": "stderr",
     "output_type": "stream",
     "text": [
      "C:\\Users\\Pedro Arraes\\anaconda3\\lib\\site-packages\\seaborn\\_decorators.py:36: FutureWarning: Pass the following variable as a keyword arg: x. From version 0.12, the only valid positional argument will be `data`, and passing other arguments without an explicit keyword will result in an error or misinterpretation.\n",
      "  warnings.warn(\n"
     ]
    },
    {
     "data": {
      "text/plain": [
       "Text(0.5, 1.0, 'PIB')"
      ]
     },
     "execution_count": 47,
     "metadata": {},
     "output_type": "execute_result"
    },
    {
     "data": {
      "image/png": "[encoded data removed]",
      "text/plain": [
       "<Figure size 432x288 with 1 Axes>"
      ]
     },
     "metadata": {
      "needs_background": "light"
     },
     "output_type": "display_data"
    }
   ],
   "source": [
    "srn.boxplot(base[\"PIB\"]).set_title(\"PIB\")"
   ]
  },
  {
   "cell_type": "code",
   "execution_count": 48,
   "id": "1313a9ce-3113-4cda-97d3-64bc9ef86a8d",
   "metadata": {},
   "outputs": [
    {
     "name": "stderr",
     "output_type": "stream",
     "text": [
      "C:\\Users\\Pedro Arraes\\anaconda3\\lib\\site-packages\\seaborn\\_decorators.py:36: FutureWarning: Pass the following variable as a keyword arg: x. From version 0.12, the only valid positional argument will be `data`, and passing other arguments without an explicit keyword will result in an error or misinterpretation.\n",
      "  warnings.warn(\n"
     ]
    },
    {
     "data": {
      "text/plain": [
       "Text(0.5, 1.0, 'Valor Empenho')"
      ]
     },
     "execution_count": 48,
     "metadata": {},
     "output_type": "execute_result"
    },
    {
     "data": {
      "image/png": "[encoded data removed]",
      "text/plain": [
       "<Figure size 432x288 with 1 Axes>"
      ]
     },
     "metadata": {
      "needs_background": "light"
     },
     "output_type": "display_data"
    }
   ],
   "source": [
    "srn.boxplot(base[\"VALOREMPENHO\"]).set_title(\"Valor Empenho\")"
   ]
  },
  {
   "cell_type": "code",
   "execution_count": 49,
   "id": "aeef8f8c-f209-4edf-b457-22c8281f95bb",
   "metadata": {},
   "outputs": [
    {
     "data": {
      "text/plain": [
       "84228.16"
      ]
     },
     "execution_count": 49,
     "metadata": {},
     "output_type": "execute_result"
    }
   ],
   "source": [
    "mediana_EMP = est.median(base[\"VALOREMPENHO\"])\n",
    "mediana_EMP"
   ]
  },
  {
   "cell_type": "code",
   "execution_count": 54,
   "id": "7204deeb-0132-484f-b176-c66a85288f33",
   "metadata": {},
   "outputs": [],
   "source": [
    "base.loc[(base[\"VALOREMPENHO\"] >250000), \"VALOREMPENHO\"] = mediana_EMP"
   ]
  },
  {
   "cell_type": "code",
   "execution_count": 55,
   "id": "81c8462c-845d-4b48-90a8-ae318af1cea7",
   "metadata": {},
   "outputs": [
    {
     "name": "stderr",
     "output_type": "stream",
     "text": [
      "C:\\Users\\Pedro Arraes\\anaconda3\\lib\\site-packages\\seaborn\\_decorators.py:36: FutureWarning: Pass the following variable as a keyword arg: x. From version 0.12, the only valid positional argument will be `data`, and passing other arguments without an explicit keyword will result in an error or misinterpretation.\n",
      "  warnings.warn(\n"
     ]
    },
    {
     "data": {
      "text/plain": [
       "Text(0.5, 1.0, 'Valor Empenho')"
      ]
     },
     "execution_count": 55,
     "metadata": {},
     "output_type": "execute_result"
    },
    {
     "data": {
      "image/png": "[encoded data removed]",
      "text/plain": [
       "<Figure size 432x288 with 1 Axes>"
      ]
     },
     "metadata": {
      "needs_background": "light"
     },
     "output_type": "display_data"
    }
   ],
   "source": [
    "srn.boxplot(base[\"VALOREMPENHO\"]).set_title(\"Valor Empenho\")"
   ]
  },
  {
   "cell_type": "code",
   "execution_count": null,
   "id": "14a190d2-53ab-4fa1-bab9-7d7a8108cbc7",
   "metadata": {},
   "outputs": [],
   "source": []
  }
 ],
 "metadata": {
  "kernelspec": {
   "display_name": "Python 3 (ipykernel)",
   "language": "python",
   "name": "python3"
  },
  "language_info": {
   "codemirror_mode": {
    "name": "ipython",
    "version": 3
   },
   "file_extension": ".py",
   "mimetype": "text/x-python",
   "name": "python",
   "nbconvert_exporter": "python",
   "pygments_lexer": "ipython3",
   "version": "3.9.12"
  }
 },
 "nbformat": 4,
 "nbformat_minor": 5
}
